{
 "cells": [
  {
   "cell_type": "markdown",
   "metadata": {},
   "source": [
    "# Assignment 3: Ensemble Methods and Unsupervised Learning\n",
    "## Applied Machine Learning (BUAN 6341)\n",
    "\n",
    "\n",
    "### <font color='red'>Due Date: April 23, 2024 11:59 pm</font> "
   ]
  },
  {
   "cell_type": "markdown",
   "metadata": {},
   "source": [
    "Deliverables:\n",
    "\n",
    "- Write down your codes in the given cells described in this file, denoted as \"YOUR CODE HERE\"\n",
    "- Write down your discussion in the given cells, denoted as \"YOUR DISCUSSION HERE\"\n",
    "- Submit two files: .ipynb and .html file to eLearning. Both files should include (1) Your code, and (2) the output of the code.\n",
    "- There is no conceptual problem for this assignment.\n",
    "\n",
    "The total score of the implementation part is: 100"
   ]
  },
  {
   "cell_type": "code",
   "execution_count": 2,
   "metadata": {},
   "outputs": [],
   "source": [
    "NAME = \"Swastik Bhatnagar\""
   ]
  },
  {
   "cell_type": "code",
   "execution_count": 3,
   "metadata": {},
   "outputs": [],
   "source": [
    "%matplotlib inline \n",
    "import numpy as np\n",
    "import matplotlib.pyplot as plt\n",
    "\n",
    "import warnings\n",
    "warnings.filterwarnings('ignore')"
   ]
  },
  {
   "cell_type": "markdown",
   "metadata": {},
   "source": [
    "### The MNIST Dataset\n",
    "\n",
    "The famous MNIST (hand-written digits) dataset contains 60,000 hand-written digit pictures (grayscale), each cut into 28 * 28 grids. It has been broadly applied to examine the performance of classification, clustering, and deep learning algorithms. The original dataset can be loaded using syntax: keras.datasets.mnist.load_data.\n",
    "\n",
    "In this assignment, we will use a simplified version of this dataset, which contains 1797 hand-written digit pictures (grayscale), each cut in 8 * 8 grids. This simplified dataset reduces computation complexity. The simplified dataset can be loaded using: sklearn.datasets.load_digits.\n",
    "\n",
    "Run the cell below to (1) load the data and get a brief overview of it; (2) plot some of the pictures to get an intuitive understanding; and (3) split the data."
   ]
  },
  {
   "cell_type": "code",
   "execution_count": 4,
   "metadata": {},
   "outputs": [
    {
     "name": "stdout",
     "output_type": "stream",
     "text": [
      "Keys of MNIST datset: dict_keys(['data', 'target', 'frame', 'feature_names', 'target_names', 'images', 'DESCR'])\n",
      "Total number of records: 1797\n",
      "Number of features: 64\n",
      "Records will be classified into these classes: [0 1 2 3 4 5 6 7 8 9]\n"
     ]
    }
   ],
   "source": [
    "# Loading Data\n",
    "from sklearn.datasets import load_digits\n",
    "mnist = load_digits()\n",
    "print(\"Keys of MNIST datset:\", mnist.keys())\n",
    "\n",
    "print(\"Total number of records:\", mnist.data.shape[0])\n",
    "print(\"Number of features:\", mnist.data.shape[1])\n",
    "print(\"Records will be classified into these classes:\", mnist.target_names)"
   ]
  },
  {
   "cell_type": "code",
   "execution_count": 5,
   "metadata": {},
   "outputs": [
    {
     "data": {
      "image/png": "[encoded data removed]",
      "text/plain": [
       "<Figure size 1600x600 with 10 Axes>"
      ]
     },
     "metadata": {},
     "output_type": "display_data"
    }
   ],
   "source": [
    "fig, axes = plt.subplots(2, 5, figsize=(16, 6))\n",
    "for i in range(10):\n",
    "    axes[i//5, i %5].imshow(mnist.images[i], cmap='gray');\n",
    "    axes[i//5, i %5].axis('off')\n",
    "    axes[i//5, i %5].set_title(f\"target: {mnist.target[i]}\")\n",
    "    \n",
    "plt.tight_layout()"
   ]
  },
  {
   "cell_type": "code",
   "execution_count": 6,
   "metadata": {},
   "outputs": [],
   "source": [
    "# Data Splitting\n",
    "\n",
    "## Define X and y\n",
    "X=mnist.data\n",
    "y=mnist.target\n",
    "\n",
    "## Split data\n",
    "from sklearn.model_selection import train_test_split\n",
    "X_train, X_test, y_train, y_test = train_test_split(X, y, stratify=y, random_state=0)"
   ]
  },
  {
   "cell_type": "markdown",
   "metadata": {},
   "source": [
    "## Section A. Ensemble Methods\n",
    "In this part, we will first run some simple models, then apply ensemble methods to see the performance. You will need to train TWO simple models and THREE ensemble models. When defining the model function, please use different names (you will need to call these models again in the model evaluation part).\n",
    "\n",
    "\n",
    "### Question 1. Simple Models - Decision Tree (10 points)\n",
    "- Train a Decision Tree model. Set \"max_depth\" to 6, \"min_samples_split\" to 2, \"max_leaf_nodes\" to  10, and random_state to 0.\n",
    "- Report the training and test accuracy of the decision tree model."
   ]
  },
  {
   "cell_type": "code",
   "execution_count": 10,
   "metadata": {},
   "outputs": [
    {
     "name": "stdout",
     "output_type": "stream",
     "text": [
      "Training Accuracy: 0.6622123236822569\n",
      "Testing Accuracy: 0.66\n"
     ]
    }
   ],
   "source": [
    "## YOUR CODE HERE (for Decision Tree Model)\n",
    "from sklearn.datasets import load_digits\n",
    "from sklearn.model_selection import train_test_split\n",
    "from sklearn.tree import DecisionTreeClassifier\n",
    "from sklearn.metrics import accuracy_score\n",
    "\n",
    "# Loading data\n",
    "mnist = load_digits()\n",
    "X = mnist.data\n",
    "y = mnist.target\n",
    "\n",
    "# Splitting data\n",
    "X_train, X_test, y_train, y_test = train_test_split(X, y, stratify=y, random_state=0)\n",
    "\n",
    "def train_decision_tree(X_train, y_train, X_test, y_test):\n",
    "    dt_model = DecisionTreeClassifier(max_depth=6, min_samples_split=2, max_leaf_nodes=10, random_state=0)\n",
    "    dt_model.fit(X_train, y_train)\n",
    "    y_train_pred = dt_model.predict(X_train)\n",
    "    y_test_pred = dt_model.predict(X_test)\n",
    "    train_accuracy = accuracy_score(y_train, y_train_pred)\n",
    "    test_accuracy = accuracy_score(y_test, y_test_pred)\n",
    "    return train_accuracy, test_accuracy\n",
    "\n",
    "# Calling the function and print the results\n",
    "train_accuracy, test_accuracy = train_decision_tree(X_train, y_train, X_test, y_test)\n",
    "print(\"Training Accuracy:\", train_accuracy)\n",
    "print(\"Testing Accuracy:\", test_accuracy)\n"
   ]
  },
  {
   "cell_type": "markdown",
   "metadata": {},
   "source": [
    "### Question 2. Simple Models - Naive Bayes (10 points)\n",
    "- Choose the proper Naive Bayes model and train accordingly.  \n",
    "- Report the training and test accuracy of the naive bayes model."
   ]
  },
  {
   "cell_type": "code",
   "execution_count": 12,
   "metadata": {},
   "outputs": [
    {
     "name": "stdout",
     "output_type": "stream",
     "text": [
      "Naive Bayes - Training Accuracy: 0.8478099480326652\n",
      "Naive Bayes - Testing Accuracy: 0.8355555555555556\n"
     ]
    }
   ],
   "source": [
    "# YOUR CODE HERE (for Naive Bayes Model)\n",
    "from sklearn.naive_bayes import GaussianNB\n",
    "from sklearn.metrics import accuracy_score\n",
    "\n",
    "def train_naive_bayes(X_train, y_train, X_test, y_test):\n",
    "    nb_model = GaussianNB()\n",
    "    nb_model.fit(X_train, y_train)\n",
    "    y_train_pred = nb_model.predict(X_train)\n",
    "    y_test_pred = nb_model.predict(X_test)\n",
    "    train_accuracy = accuracy_score(y_train, y_train_pred)\n",
    "    test_accuracy = accuracy_score(y_test, y_test_pred)\n",
    "    return train_accuracy, test_accuracy\n",
    "\n",
    "\n",
    "train_accuracy, test_accuracy = train_naive_bayes(X_train, y_train, X_test, y_test)\n",
    "print(\"Naive Bayes - Training Accuracy:\", train_accuracy)\n",
    "print(\"Naive Bayes - Testing Accuracy:\", test_accuracy)\n",
    "\n"
   ]
  },
  {
   "cell_type": "markdown",
   "metadata": {},
   "source": [
    "### Question 3. Ensemble Methods - Random Forest (15 points)\n",
    "- Train a random forest model. Specifically, train 200 decision trees on 1000 resampled records. For each tree, keep specifications the same as those used in Question 1 (i.e., max_depth = 6, min_samples_split = 2, etc.)\n",
    "- What is the training and  test accuracy for the random forest?\n",
    "- Compare the performance (test accuracy) of random forest and decision tree. What do you find? Briefly discuss the difference between decision tree and random forest, and how the difference would influence model performance."
   ]
  },
  {
   "cell_type": "code",
   "execution_count": 13,
   "metadata": {},
   "outputs": [
    {
     "name": "stdout",
     "output_type": "stream",
     "text": [
      "Random Forest - Training Accuracy: 0.9198218262806236\n",
      "Random Forest - Testing Accuracy: 0.9\n"
     ]
    }
   ],
   "source": [
    "# YOUR CODE HERE\n",
    "from sklearn.ensemble import RandomForestClassifier\n",
    "from sklearn.metrics import accuracy_score\n",
    "\n",
    "def train_random_forest(X_train, y_train, X_test, y_test):\n",
    "    rf_model = RandomForestClassifier(n_estimators=200, max_depth=6, min_samples_split=2, max_leaf_nodes=10, random_state=0)\n",
    "    rf_model.fit(X_train, y_train)\n",
    "    y_train_pred = rf_model.predict(X_train)\n",
    "    y_test_pred = rf_model.predict(X_test)\n",
    "    train_accuracy = accuracy_score(y_train, y_train_pred)\n",
    "    test_accuracy = accuracy_score(y_test, y_test_pred)\n",
    "    return train_accuracy, test_accuracy\n",
    "\n",
    "\n",
    "train_accuracy, test_accuracy = train_random_forest(X_train, y_train, X_test, y_test)\n",
    "print(\"Random Forest - Training Accuracy:\", train_accuracy)\n",
    "print(\"Random Forest - Testing Accuracy:\", test_accuracy)\n"
   ]
  },
  {
   "cell_type": "code",
   "execution_count": null,
   "metadata": {},
   "outputs": [],
   "source": [
    "# YOUR DISCUSSION HERE\n",
    "#The decision tree model has a training accuracy of approximately 0.6621 and a test accuracy of 0.66. Comparing this to the random forest model, which has a training accuracy of about 0.9198 and a test accuracy of 0.9, the random forest significantly outperforms the decision tree. This demonstrates the effectiveness of ensemble methods like random forests in improving predictive accuracy and generalization by combining the decisions of multiple trees, thus reducing the risk of overfitting that is often seen with single decision trees."
   ]
  },
  {
   "cell_type": "markdown",
   "metadata": {},
   "source": [
    "# Question 4. Ensemble Methods - AdaBoost (15 points)\n",
    "- Apply Gaussian Naive Bayes (with default settings, same as Q2) with AdaBoost. Run the Naive Bayes model 200 times. Let learning_rate = 0.3, and random_state = 0.\n",
    "- Report the test accuracy of the Naive Bayes model with AdaBoost.\n",
    "- Compare the performance (test accuracy) of naive bayes with and without adaboost. Briefly discuss the role of adaboost."
   ]
  },
  {
   "cell_type": "code",
   "execution_count": 14,
   "metadata": {},
   "outputs": [
    {
     "name": "stdout",
     "output_type": "stream",
     "text": [
      "AdaBoost with Naive Bayes - Testing Accuracy: 0.92\n"
     ]
    }
   ],
   "source": [
    "# YOUR CODE HERE\n",
    "from sklearn.ensemble import AdaBoostClassifier\n",
    "from sklearn.naive_bayes import GaussianNB\n",
    "from sklearn.metrics import accuracy_score\n",
    "\n",
    "def train_adaboost_nb(X_train, y_train, X_test, y_test):\n",
    "    base_nb_model = GaussianNB()\n",
    "    ada_model = AdaBoostClassifier(base_estimator=base_nb_model, n_estimators=200, learning_rate=0.3, random_state=0)\n",
    "    ada_model.fit(X_train, y_train)\n",
    "    y_test_pred = ada_model.predict(X_test)\n",
    "    test_accuracy = accuracy_score(y_test, y_test_pred)\n",
    "    return test_accuracy\n",
    "\n",
    "\n",
    "test_accuracy = train_adaboost_nb(X_train, y_train, X_test, y_test)\n",
    "print(\"AdaBoost with Naive Bayes - Testing Accuracy:\", test_accuracy)\n"
   ]
  },
  {
   "cell_type": "code",
   "execution_count": null,
   "metadata": {},
   "outputs": [],
   "source": [
    "# YOUR DISCUSSION HERE\n",
    "#The test accuracy of the Gaussian Naive Bayes classifier improved from approximately 83.55% to 92% when combined with AdaBoost. AdaBoost enhanced performance by emphasizing the more difficult case in the training dataset, leading to a better-performing ensemble model as it corrects the errors of its predecessors through multiple iterations of training."
   ]
  },
  {
   "cell_type": "markdown",
   "metadata": {},
   "source": [
    "## Section B. Clustering\n",
    "The MNIST dataset can also be used for clustering practice. This case, we are not classifying a digit to its corresponding label. Instead, we assume that no digit label is known, and we are simply clustering these pictures based on their similarity.\n",
    "\n",
    "\n",
    "### Question 5. Clustering Prep (10 points)\n",
    "We have learned two clustering methods, K-Means and DBSCAN. Both methods require scaling before applying the model. \n",
    "- Apply MinMax Scaling to our data so that the scaled data can be used for clustering algorithms. For result consistency, use sklearn package for minmax scaling. \n"
   ]
  },
  {
   "cell_type": "code",
   "execution_count": 21,
   "metadata": {},
   "outputs": [],
   "source": [
    "# YOUR CODE HERE\n",
    "from sklearn.preprocessing import MinMaxScaler\n",
    "\n",
    "scaler = MinMaxScaler()\n",
    "\n",
    "X_scaled = scaler.fit_transform(X)"
   ]
  },
  {
   "cell_type": "markdown",
   "metadata": {},
   "source": [
    "### Question 6. K-Means Clustering (10 points)\n",
    "- Apply K-Means, set k=10 (as we have already known there should be 10 digits), and random state = 0. Make sure you are using the scaled data.\n",
    "- Predict the cluster labels. Name the result (i.e., cluster labels) as \"labels\". "
   ]
  },
  {
   "cell_type": "code",
   "execution_count": 22,
   "metadata": {},
   "outputs": [],
   "source": [
    "# YOUR CODE HERE\n",
    "from sklearn.cluster import KMeans\n",
    "\n",
    "def apply_kmeans(X_scaled):\n",
    "    kmeans = KMeans(n_clusters=10, random_state=0)\n",
    "    kmeans.fit(X_scaled)\n",
    "    labels = kmeans.labels_\n",
    "    "
   ]
  },
  {
   "cell_type": "markdown",
   "metadata": {},
   "source": [
    "### Question 7 DBSCAN (20 points)\n",
    "- Apply DBSCAN, set eps to 1 and min_samples to 5. Predict the cluster labels. Name the result as \"temp_clusters\". How many unique clusters do we have? \n",
    "- Apply DBSCAN again, let eps = 1.5 and min_samples = 5. Predict the cluster labels. Name the result as \"clusters\". How many unique clusters do we have now? \n",
    "- Compare the choice of eps and the number of clusters, briefly discuss the impact of eps on cluster number.\n",
    "- Given that there are 10 digits, which parameter choice would you choose? eps = 1 or eps = 1.5?"
   ]
  },
  {
   "cell_type": "code",
   "execution_count": 18,
   "metadata": {},
   "outputs": [
    {
     "name": "stdout",
     "output_type": "stream",
     "text": [
      "number of clusters: 26\n"
     ]
    }
   ],
   "source": [
    "# YOUR CODE HERE (DBSCAN with eps = 1)\n",
    "from sklearn.cluster import DBSCAN\n",
    "\n",
    "dbscan = DBSCAN(eps=1, min_samples=5)\n",
    "temp_clusters = dbscan.fit_predict(X_scaled)\n",
    "num_clusters = len(set(temp_clusters)) - (1 if -1 in temp_clusters else 0)\n",
    "\n",
    "print(\"number of clusters:\", num_clusters)\n",
    "\n"
   ]
  },
  {
   "cell_type": "code",
   "execution_count": 19,
   "metadata": {},
   "outputs": [
    {
     "name": "stdout",
     "output_type": "stream",
     "text": [
      "number of clusters: 9\n"
     ]
    }
   ],
   "source": [
    "# YOUR CODE HERE (DBSCAN with eps = 1.5)\n",
    "dbscan = DBSCAN(eps=1.5, min_samples=5)\n",
    "temp_clusters = dbscan.fit_predict(X_scaled)\n",
    "num_clusters = len(set(temp_clusters)) - (1 if -1 in temp_clusters else 0)\n",
    "\n",
    "print(\"number of clusters:\", num_clusters)\n"
   ]
  },
  {
   "cell_type": "code",
   "execution_count": 15,
   "metadata": {},
   "outputs": [],
   "source": [
    "# YOUR DISCUSSION HERE (Include the discussion for the last two problems here.)\n",
    "#The choice of eps significantly affects the number of clusters formed. A smaller eps value tends to produce a larger number of clusters because it defines a smaller neighborhood around each point, leading to more clusters that are more tightly packed. Conversely, a larger eps encompasses a broader area around each point, causing points to be grouped into larger, but fewer clusters\n",
    "#Given that the data represents 10 digits, choosing an eps value that results in a number of clusters close to 10 might be more appropriate. Hence, between eps = 1 (which gives 26 clusters) and eps = 1.5 (which gives 9 clusters), eps = 1.5 might be the better choice as it is closer to the expected number of clusters (10)."
   ]
  },
  {
   "cell_type": "markdown",
   "metadata": {},
   "source": [
    "### Question 8. Performance of Clustering (Open Question, 10 Points)\n",
    "Clustering is an unsupervised learning method and does not have a \"ground truth\" (i.e., the cluster label of each example). Thus, it is difficult to show the performance of clustering results. \n",
    "\n",
    "When working with pictures, one way to provide some evidence of clustering performance is to show some pictures within each cluster, and see if the clustering result makes sense. \n",
    "\n",
    "- The cell below plots 5 pictures for each cluster (kmeans clustering). Run the cell below to generate the plot. (Double check Q6 - the clustering result should be under the name \"labels\".)\n",
    "- Discuss briefly about the clustering result. Does the method work well in this case? (Open Question)"
   ]
  },
  {
   "cell_type": "code",
   "execution_count": 20,
   "metadata": {},
   "outputs": [
    {
     "data": {
      "image/png": "[encoded data removed]",
      "text/plain": [
       "<Figure size 1000x1000 with 5 Axes>"
      ]
     },
     "metadata": {},
     "output_type": "display_data"
    },
    {
     "data": {
      "image/png": "[encoded data removed]",
      "text/plain": [
       "<Figure size 1000x1000 with 5 Axes>"
      ]
     },
     "metadata": {},
     "output_type": "display_data"
    },
    {
     "data": {
      "image/png": "[encoded data removed]",
      "text/plain": [
       "<Figure size 1000x1000 with 5 Axes>"
      ]
     },
     "metadata": {},
     "output_type": "display_data"
    },
    {
     "data": {
      "image/png": "[encoded data removed]",
      "text/plain": [
       "<Figure size 1000x1000 with 5 Axes>"
      ]
     },
     "metadata": {},
     "output_type": "display_data"
    },
    {
     "data": {
      "image/png": "[encoded data removed]",
      "text/plain": [
       "<Figure size 1000x1000 with 5 Axes>"
      ]
     },
     "metadata": {},
     "output_type": "display_data"
    },
    {
     "data": {
      "image/png": "[encoded data removed]",
      "text/plain": [
       "<Figure size 1000x1000 with 5 Axes>"
      ]
     },
     "metadata": {},
     "output_type": "display_data"
    },
    {
     "data": {
      "image/png": "[encoded data removed]",
      "text/plain": [
       "<Figure size 1000x1000 with 5 Axes>"
      ]
     },
     "metadata": {},
     "output_type": "display_data"
    },
    {
     "data": {
      "image/png": "[encoded data removed]",
      "text/plain": [
       "<Figure size 1000x1000 with 5 Axes>"
      ]
     },
     "metadata": {},
     "output_type": "display_data"
    },
    {
     "data": {
      "image/png": "[encoded data removed]",
      "text/plain": [
       "<Figure size 1000x1000 with 5 Axes>"
      ]
     },
     "metadata": {},
     "output_type": "display_data"
    },
    {
     "data": {
      "image/png": "[encoded data removed]",
      "text/plain": [
       "<Figure size 1000x1000 with 5 Axes>"
      ]
     },
     "metadata": {},
     "output_type": "display_data"
    }
   ],
   "source": [
    "# RUN THIS CELL TO GET FIGURE\n",
    "def draw_digit(data, row, col, n):\n",
    "    plt.subplot(row, col, n)    \n",
    "    plt.imshow(data)\n",
    "    plt.gray()\n",
    "\n",
    "for nb in range(10):\n",
    "    show_size = 5\n",
    "    plt.figure(figsize=(10,10))\n",
    "    count = 0\n",
    "\n",
    "    for i in range(mnist.images.shape[0]):\n",
    "        if count < show_size and labels[i] == nb:\n",
    "            draw_digit(mnist.images[i].reshape(8,8), 1, show_size, count+1)\n",
    "            count += 1\n",
    "    plt.show()"
   ]
  },
  {
   "cell_type": "code",
   "execution_count": null,
   "metadata": {},
   "outputs": [],
   "source": [
    "# YOUR DISCUSSION HERE\n",
    "#The digits 0,2,3,4,5,6 and 7 have been successfully grouped together as they exhibit consistent patterns within each group. However, 1,8,9 share similar pixel locations with others which results in misclassification. Although K-Means clustering has proven effective in clustering some digits, there is still room for improvement."
   ]
  }
 ],
 "metadata": {
  "kernelspec": {
   "display_name": "Python 3 (ipykernel)",
   "language": "python",
   "name": "python3"
  },
  "language_info": {
   "codemirror_mode": {
    "name": "ipython",
    "version": 3
   },
   "file_extension": ".py",
   "mimetype": "text/x-python",
   "name": "python",
   "nbconvert_exporter": "python",
   "pygments_lexer": "ipython3",
   "version": "3.11.5"
  }
 },
 "nbformat": 4,
 "nbformat_minor": 2
}
